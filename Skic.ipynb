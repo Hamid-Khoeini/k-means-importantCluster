{
 "cells": [
  {
   "cell_type": "markdown",
   "id": "f0dd6683-9e24-444e-8ebe-56505110d389",
   "metadata": {},
   "source": [
    "## Import libraries"
   ]
  },
  {
   "cell_type": "code",
   "execution_count": 3,
   "id": "e44cb0c1-df4a-4b0f-bfaf-42a06db06661",
   "metadata": {},
   "outputs": [],
   "source": [
    "import pandas as pd\n",
    "import numpy as np\n",
    "import matplotlib.pyplot as plt\n",
    "from sklearn.cluster import KMeans\n",
    "from scipy.spatial.distance import cdist\n",
    "from sklearn.metrics import accuracy_score"
   ]
  },
  {
   "cell_type": "markdown",
   "id": "47ae3759-d55c-450b-b390-f9d27005e591",
   "metadata": {},
   "source": [
    "# load data: features value and columns name"
   ]
  },
  {
   "cell_type": "code",
   "execution_count": 4,
   "id": "d5609a81-0c09-4209-9706-7f96285f448b",
   "metadata": {},
   "outputs": [],
   "source": [
    "df = pd.read_csv('iris.csv',names=['x1','x2','x3','x4','class_name'])"
   ]
  },
  {
   "cell_type": "markdown",
   "id": "5f6f1db8-6058-4f51-be1f-86ce739ded5b",
   "metadata": {},
   "source": [
    "# add numerical label"
   ]
  },
  {
   "cell_type": "code",
   "execution_count": 5,
   "id": "b28941f6-5c73-4b25-b70d-e3ee56de6cb8",
   "metadata": {},
   "outputs": [],
   "source": [
    "df['class_int'] = pd.Categorical(df.iloc[:,-1]).codes"
   ]
  },
  {
   "cell_type": "markdown",
   "id": "af3346ff-6411-4dae-8dd1-ad3f48fbd54a",
   "metadata": {},
   "source": [
    "# show head and tail of data"
   ]
  },
  {
   "cell_type": "code",
   "execution_count": 6,
   "id": "8b1eeab1-2b49-4d7f-9ae2-aac02615da33",
   "metadata": {},
   "outputs": [
    {
     "name": "stdout",
     "output_type": "stream",
     "text": [
      "Head of dataset\n",
      "    x1   x2   x3   x4   class_name  class_int\n",
      "0  5.1  3.5  1.4  0.2  Iris-setosa          0\n",
      "1  4.9  3.0  1.4  0.2  Iris-setosa          0\n",
      "2  4.7  3.2  1.3  0.2  Iris-setosa          0\n",
      "3  4.6  3.1  1.5  0.2  Iris-setosa          0\n",
      "4  5.0  3.6  1.4  0.2  Iris-setosa          0\n",
      "\n",
      "\n",
      "Tail of datset\n",
      "      x1   x2   x3   x4      class_name  class_int\n",
      "145  6.7  3.0  5.2  2.3  Iris-virginica          2\n",
      "146  6.3  2.5  5.0  1.9  Iris-virginica          2\n",
      "147  6.5  3.0  5.2  2.0  Iris-virginica          2\n",
      "148  6.2  3.4  5.4  2.3  Iris-virginica          2\n",
      "149  5.9  3.0  5.1  1.8  Iris-virginica          2\n"
     ]
    }
   ],
   "source": [
    "print('Head of dataset')\n",
    "print(df.head())\n",
    "print('\\n')\n",
    "print('Tail of datset')\n",
    "print(df.tail())"
   ]
  },
  {
   "cell_type": "markdown",
   "id": "a2b6b847-5169-4f2a-9e8d-7f2f9c6367cc",
   "metadata": {},
   "source": [
    "# split data to train and test"
   ]
  },
  {
   "cell_type": "code",
   "execution_count": 7,
   "id": "903d3ac9-2861-4ae8-9e34-90ec7b5864a8",
   "metadata": {},
   "outputs": [],
   "source": [
    "train = df.sample(frac=0.7, random_state=np.random.RandomState())\n",
    "test = df.loc[~df.index.isin(train.index)]"
   ]
  },
  {
   "cell_type": "markdown",
   "id": "32662ebd-1a02-4ff1-8085-b756f72058c0",
   "metadata": {},
   "source": [
    "# split data to classes"
   ]
  },
  {
   "cell_type": "code",
   "execution_count": 8,
   "id": "8b9cf98d-b4b4-4ff8-9273-16cea8fe831f",
   "metadata": {},
   "outputs": [],
   "source": [
    "class1 = train.loc[df.class_int == 0]\n",
    "class2 = train.loc[df.class_int == 1]\n",
    "class3 = train.loc[df.class_int == 2]"
   ]
  },
  {
   "cell_type": "markdown",
   "id": "fc08dad9-881a-49a1-b608-78eada3ac723",
   "metadata": {},
   "source": [
    "# find mean of classes"
   ]
  },
  {
   "cell_type": "code",
   "execution_count": 9,
   "id": "42116217-652c-4b61-9271-74fa631737f0",
   "metadata": {},
   "outputs": [],
   "source": [
    "meanClass1 = class1.iloc[:,[0,1,2,3]].mean(axis='index').tolist()\n",
    "meanClass2 = class2.iloc[:,[0,1,2,3]].mean(axis='index').tolist()\n",
    "meanClass3 = class3.iloc[:,[0,1,2,3]].mean(axis='index').tolist()"
   ]
  },
  {
   "cell_type": "markdown",
   "id": "4a2f561f-089a-4b4a-aabd-724b872d6125",
   "metadata": {},
   "source": [
    "# Combine the mean features into initial centroids"
   ]
  },
  {
   "cell_type": "code",
   "execution_count": 10,
   "id": "2be6c203-cc7d-4b5d-94d6-e8ab063814be",
   "metadata": {},
   "outputs": [],
   "source": [
    "initial_centroids = np.array([meanClass1, meanClass2, meanClass3])"
   ]
  },
  {
   "cell_type": "markdown",
   "id": "cac2f7d9-55d3-4163-b14f-9a87f578518e",
   "metadata": {},
   "source": [
    "# Apply KMeans with the initial centroids"
   ]
  },
  {
   "cell_type": "code",
   "execution_count": 11,
   "id": "b8158c24-a1ae-42ff-a26e-6d5108104715",
   "metadata": {},
   "outputs": [
    {
     "data": {
      "text/html": [
       "<style>#sk-container-id-1 {\n",
       "  /* Definition of color scheme common for light and dark mode */\n",
       "  --sklearn-color-text: black;\n",
       "  --sklearn-color-line: gray;\n",
       "  /* Definition of color scheme for unfitted estimators */\n",
       "  --sklearn-color-unfitted-level-0: #fff5e6;\n",
       "  --sklearn-color-unfitted-level-1: #f6e4d2;\n",
       "  --sklearn-color-unfitted-level-2: #ffe0b3;\n",
       "  --sklearn-color-unfitted-level-3: chocolate;\n",
       "  /* Definition of color scheme for fitted estimators */\n",
       "  --sklearn-color-fitted-level-0: #f0f8ff;\n",
       "  --sklearn-color-fitted-level-1: #d4ebff;\n",
       "  --sklearn-color-fitted-level-2: #b3dbfd;\n",
       "  --sklearn-color-fitted-level-3: cornflowerblue;\n",
       "\n",
       "  /* Specific color for light theme */\n",
       "  --sklearn-color-text-on-default-background: var(--sg-text-color, var(--theme-code-foreground, var(--jp-content-font-color1, black)));\n",
       "  --sklearn-color-background: var(--sg-background-color, var(--theme-background, var(--jp-layout-color0, white)));\n",
       "  --sklearn-color-border-box: var(--sg-text-color, var(--theme-code-foreground, var(--jp-content-font-color1, black)));\n",
       "  --sklearn-color-icon: #696969;\n",
       "\n",
       "  @media (prefers-color-scheme: dark) {\n",
       "    /* Redefinition of color scheme for dark theme */\n",
       "    --sklearn-color-text-on-default-background: var(--sg-text-color, var(--theme-code-foreground, var(--jp-content-font-color1, white)));\n",
       "    --sklearn-color-background: var(--sg-background-color, var(--theme-background, var(--jp-layout-color0, #111)));\n",
       "    --sklearn-color-border-box: var(--sg-text-color, var(--theme-code-foreground, var(--jp-content-font-color1, white)));\n",
       "    --sklearn-color-icon: #878787;\n",
       "  }\n",
       "}\n",
       "\n",
       "#sk-container-id-1 {\n",
       "  color: var(--sklearn-color-text);\n",
       "}\n",
       "\n",
       "#sk-container-id-1 pre {\n",
       "  padding: 0;\n",
       "}\n",
       "\n",
       "#sk-container-id-1 input.sk-hidden--visually {\n",
       "  border: 0;\n",
       "  clip: rect(1px 1px 1px 1px);\n",
       "  clip: rect(1px, 1px, 1px, 1px);\n",
       "  height: 1px;\n",
       "  margin: -1px;\n",
       "  overflow: hidden;\n",
       "  padding: 0;\n",
       "  position: absolute;\n",
       "  width: 1px;\n",
       "}\n",
       "\n",
       "#sk-container-id-1 div.sk-dashed-wrapped {\n",
       "  border: 1px dashed var(--sklearn-color-line);\n",
       "  margin: 0 0.4em 0.5em 0.4em;\n",
       "  box-sizing: border-box;\n",
       "  padding-bottom: 0.4em;\n",
       "  background-color: var(--sklearn-color-background);\n",
       "}\n",
       "\n",
       "#sk-container-id-1 div.sk-container {\n",
       "  /* jupyter's `normalize.less` sets `[hidden] { display: none; }`\n",
       "     but bootstrap.min.css set `[hidden] { display: none !important; }`\n",
       "     so we also need the `!important` here to be able to override the\n",
       "     default hidden behavior on the sphinx rendered scikit-learn.org.\n",
       "     See: https://github.com/scikit-learn/scikit-learn/issues/21755 */\n",
       "  display: inline-block !important;\n",
       "  position: relative;\n",
       "}\n",
       "\n",
       "#sk-container-id-1 div.sk-text-repr-fallback {\n",
       "  display: none;\n",
       "}\n",
       "\n",
       "div.sk-parallel-item,\n",
       "div.sk-serial,\n",
       "div.sk-item {\n",
       "  /* draw centered vertical line to link estimators */\n",
       "  background-image: linear-gradient(var(--sklearn-color-text-on-default-background), var(--sklearn-color-text-on-default-background));\n",
       "  background-size: 2px 100%;\n",
       "  background-repeat: no-repeat;\n",
       "  background-position: center center;\n",
       "}\n",
       "\n",
       "/* Parallel-specific style estimator block */\n",
       "\n",
       "#sk-container-id-1 div.sk-parallel-item::after {\n",
       "  content: \"\";\n",
       "  width: 100%;\n",
       "  border-bottom: 2px solid var(--sklearn-color-text-on-default-background);\n",
       "  flex-grow: 1;\n",
       "}\n",
       "\n",
       "#sk-container-id-1 div.sk-parallel {\n",
       "  display: flex;\n",
       "  align-items: stretch;\n",
       "  justify-content: center;\n",
       "  background-color: var(--sklearn-color-background);\n",
       "  position: relative;\n",
       "}\n",
       "\n",
       "#sk-container-id-1 div.sk-parallel-item {\n",
       "  display: flex;\n",
       "  flex-direction: column;\n",
       "}\n",
       "\n",
       "#sk-container-id-1 div.sk-parallel-item:first-child::after {\n",
       "  align-self: flex-end;\n",
       "  width: 50%;\n",
       "}\n",
       "\n",
       "#sk-container-id-1 div.sk-parallel-item:last-child::after {\n",
       "  align-self: flex-start;\n",
       "  width: 50%;\n",
       "}\n",
       "\n",
       "#sk-container-id-1 div.sk-parallel-item:only-child::after {\n",
       "  width: 0;\n",
       "}\n",
       "\n",
       "/* Serial-specific style estimator block */\n",
       "\n",
       "#sk-container-id-1 div.sk-serial {\n",
       "  display: flex;\n",
       "  flex-direction: column;\n",
       "  align-items: center;\n",
       "  background-color: var(--sklearn-color-background);\n",
       "  padding-right: 1em;\n",
       "  padding-left: 1em;\n",
       "}\n",
       "\n",
       "\n",
       "/* Toggleable style: style used for estimator/Pipeline/ColumnTransformer box that is\n",
       "clickable and can be expanded/collapsed.\n",
       "- Pipeline and ColumnTransformer use this feature and define the default style\n",
       "- Estimators will overwrite some part of the style using the `sk-estimator` class\n",
       "*/\n",
       "\n",
       "/* Pipeline and ColumnTransformer style (default) */\n",
       "\n",
       "#sk-container-id-1 div.sk-toggleable {\n",
       "  /* Default theme specific background. It is overwritten whether we have a\n",
       "  specific estimator or a Pipeline/ColumnTransformer */\n",
       "  background-color: var(--sklearn-color-background);\n",
       "}\n",
       "\n",
       "/* Toggleable label */\n",
       "#sk-container-id-1 label.sk-toggleable__label {\n",
       "  cursor: pointer;\n",
       "  display: block;\n",
       "  width: 100%;\n",
       "  margin-bottom: 0;\n",
       "  padding: 0.5em;\n",
       "  box-sizing: border-box;\n",
       "  text-align: center;\n",
       "}\n",
       "\n",
       "#sk-container-id-1 label.sk-toggleable__label-arrow:before {\n",
       "  /* Arrow on the left of the label */\n",
       "  content: \"▸\";\n",
       "  float: left;\n",
       "  margin-right: 0.25em;\n",
       "  color: var(--sklearn-color-icon);\n",
       "}\n",
       "\n",
       "#sk-container-id-1 label.sk-toggleable__label-arrow:hover:before {\n",
       "  color: var(--sklearn-color-text);\n",
       "}\n",
       "\n",
       "/* Toggleable content - dropdown */\n",
       "\n",
       "#sk-container-id-1 div.sk-toggleable__content {\n",
       "  max-height: 0;\n",
       "  max-width: 0;\n",
       "  overflow: hidden;\n",
       "  text-align: left;\n",
       "  /* unfitted */\n",
       "  background-color: var(--sklearn-color-unfitted-level-0);\n",
       "}\n",
       "\n",
       "#sk-container-id-1 div.sk-toggleable__content.fitted {\n",
       "  /* fitted */\n",
       "  background-color: var(--sklearn-color-fitted-level-0);\n",
       "}\n",
       "\n",
       "#sk-container-id-1 div.sk-toggleable__content pre {\n",
       "  margin: 0.2em;\n",
       "  border-radius: 0.25em;\n",
       "  color: var(--sklearn-color-text);\n",
       "  /* unfitted */\n",
       "  background-color: var(--sklearn-color-unfitted-level-0);\n",
       "}\n",
       "\n",
       "#sk-container-id-1 div.sk-toggleable__content.fitted pre {\n",
       "  /* unfitted */\n",
       "  background-color: var(--sklearn-color-fitted-level-0);\n",
       "}\n",
       "\n",
       "#sk-container-id-1 input.sk-toggleable__control:checked~div.sk-toggleable__content {\n",
       "  /* Expand drop-down */\n",
       "  max-height: 200px;\n",
       "  max-width: 100%;\n",
       "  overflow: auto;\n",
       "}\n",
       "\n",
       "#sk-container-id-1 input.sk-toggleable__control:checked~label.sk-toggleable__label-arrow:before {\n",
       "  content: \"▾\";\n",
       "}\n",
       "\n",
       "/* Pipeline/ColumnTransformer-specific style */\n",
       "\n",
       "#sk-container-id-1 div.sk-label input.sk-toggleable__control:checked~label.sk-toggleable__label {\n",
       "  color: var(--sklearn-color-text);\n",
       "  background-color: var(--sklearn-color-unfitted-level-2);\n",
       "}\n",
       "\n",
       "#sk-container-id-1 div.sk-label.fitted input.sk-toggleable__control:checked~label.sk-toggleable__label {\n",
       "  background-color: var(--sklearn-color-fitted-level-2);\n",
       "}\n",
       "\n",
       "/* Estimator-specific style */\n",
       "\n",
       "/* Colorize estimator box */\n",
       "#sk-container-id-1 div.sk-estimator input.sk-toggleable__control:checked~label.sk-toggleable__label {\n",
       "  /* unfitted */\n",
       "  background-color: var(--sklearn-color-unfitted-level-2);\n",
       "}\n",
       "\n",
       "#sk-container-id-1 div.sk-estimator.fitted input.sk-toggleable__control:checked~label.sk-toggleable__label {\n",
       "  /* fitted */\n",
       "  background-color: var(--sklearn-color-fitted-level-2);\n",
       "}\n",
       "\n",
       "#sk-container-id-1 div.sk-label label.sk-toggleable__label,\n",
       "#sk-container-id-1 div.sk-label label {\n",
       "  /* The background is the default theme color */\n",
       "  color: var(--sklearn-color-text-on-default-background);\n",
       "}\n",
       "\n",
       "/* On hover, darken the color of the background */\n",
       "#sk-container-id-1 div.sk-label:hover label.sk-toggleable__label {\n",
       "  color: var(--sklearn-color-text);\n",
       "  background-color: var(--sklearn-color-unfitted-level-2);\n",
       "}\n",
       "\n",
       "/* Label box, darken color on hover, fitted */\n",
       "#sk-container-id-1 div.sk-label.fitted:hover label.sk-toggleable__label.fitted {\n",
       "  color: var(--sklearn-color-text);\n",
       "  background-color: var(--sklearn-color-fitted-level-2);\n",
       "}\n",
       "\n",
       "/* Estimator label */\n",
       "\n",
       "#sk-container-id-1 div.sk-label label {\n",
       "  font-family: monospace;\n",
       "  font-weight: bold;\n",
       "  display: inline-block;\n",
       "  line-height: 1.2em;\n",
       "}\n",
       "\n",
       "#sk-container-id-1 div.sk-label-container {\n",
       "  text-align: center;\n",
       "}\n",
       "\n",
       "/* Estimator-specific */\n",
       "#sk-container-id-1 div.sk-estimator {\n",
       "  font-family: monospace;\n",
       "  border: 1px dotted var(--sklearn-color-border-box);\n",
       "  border-radius: 0.25em;\n",
       "  box-sizing: border-box;\n",
       "  margin-bottom: 0.5em;\n",
       "  /* unfitted */\n",
       "  background-color: var(--sklearn-color-unfitted-level-0);\n",
       "}\n",
       "\n",
       "#sk-container-id-1 div.sk-estimator.fitted {\n",
       "  /* fitted */\n",
       "  background-color: var(--sklearn-color-fitted-level-0);\n",
       "}\n",
       "\n",
       "/* on hover */\n",
       "#sk-container-id-1 div.sk-estimator:hover {\n",
       "  /* unfitted */\n",
       "  background-color: var(--sklearn-color-unfitted-level-2);\n",
       "}\n",
       "\n",
       "#sk-container-id-1 div.sk-estimator.fitted:hover {\n",
       "  /* fitted */\n",
       "  background-color: var(--sklearn-color-fitted-level-2);\n",
       "}\n",
       "\n",
       "/* Specification for estimator info (e.g. \"i\" and \"?\") */\n",
       "\n",
       "/* Common style for \"i\" and \"?\" */\n",
       "\n",
       ".sk-estimator-doc-link,\n",
       "a:link.sk-estimator-doc-link,\n",
       "a:visited.sk-estimator-doc-link {\n",
       "  float: right;\n",
       "  font-size: smaller;\n",
       "  line-height: 1em;\n",
       "  font-family: monospace;\n",
       "  background-color: var(--sklearn-color-background);\n",
       "  border-radius: 1em;\n",
       "  height: 1em;\n",
       "  width: 1em;\n",
       "  text-decoration: none !important;\n",
       "  margin-left: 1ex;\n",
       "  /* unfitted */\n",
       "  border: var(--sklearn-color-unfitted-level-1) 1pt solid;\n",
       "  color: var(--sklearn-color-unfitted-level-1);\n",
       "}\n",
       "\n",
       ".sk-estimator-doc-link.fitted,\n",
       "a:link.sk-estimator-doc-link.fitted,\n",
       "a:visited.sk-estimator-doc-link.fitted {\n",
       "  /* fitted */\n",
       "  border: var(--sklearn-color-fitted-level-1) 1pt solid;\n",
       "  color: var(--sklearn-color-fitted-level-1);\n",
       "}\n",
       "\n",
       "/* On hover */\n",
       "div.sk-estimator:hover .sk-estimator-doc-link:hover,\n",
       ".sk-estimator-doc-link:hover,\n",
       "div.sk-label-container:hover .sk-estimator-doc-link:hover,\n",
       ".sk-estimator-doc-link:hover {\n",
       "  /* unfitted */\n",
       "  background-color: var(--sklearn-color-unfitted-level-3);\n",
       "  color: var(--sklearn-color-background);\n",
       "  text-decoration: none;\n",
       "}\n",
       "\n",
       "div.sk-estimator.fitted:hover .sk-estimator-doc-link.fitted:hover,\n",
       ".sk-estimator-doc-link.fitted:hover,\n",
       "div.sk-label-container:hover .sk-estimator-doc-link.fitted:hover,\n",
       ".sk-estimator-doc-link.fitted:hover {\n",
       "  /* fitted */\n",
       "  background-color: var(--sklearn-color-fitted-level-3);\n",
       "  color: var(--sklearn-color-background);\n",
       "  text-decoration: none;\n",
       "}\n",
       "\n",
       "/* Span, style for the box shown on hovering the info icon */\n",
       ".sk-estimator-doc-link span {\n",
       "  display: none;\n",
       "  z-index: 9999;\n",
       "  position: relative;\n",
       "  font-weight: normal;\n",
       "  right: .2ex;\n",
       "  padding: .5ex;\n",
       "  margin: .5ex;\n",
       "  width: min-content;\n",
       "  min-width: 20ex;\n",
       "  max-width: 50ex;\n",
       "  color: var(--sklearn-color-text);\n",
       "  box-shadow: 2pt 2pt 4pt #999;\n",
       "  /* unfitted */\n",
       "  background: var(--sklearn-color-unfitted-level-0);\n",
       "  border: .5pt solid var(--sklearn-color-unfitted-level-3);\n",
       "}\n",
       "\n",
       ".sk-estimator-doc-link.fitted span {\n",
       "  /* fitted */\n",
       "  background: var(--sklearn-color-fitted-level-0);\n",
       "  border: var(--sklearn-color-fitted-level-3);\n",
       "}\n",
       "\n",
       ".sk-estimator-doc-link:hover span {\n",
       "  display: block;\n",
       "}\n",
       "\n",
       "/* \"?\"-specific style due to the `<a>` HTML tag */\n",
       "\n",
       "#sk-container-id-1 a.estimator_doc_link {\n",
       "  float: right;\n",
       "  font-size: 1rem;\n",
       "  line-height: 1em;\n",
       "  font-family: monospace;\n",
       "  background-color: var(--sklearn-color-background);\n",
       "  border-radius: 1rem;\n",
       "  height: 1rem;\n",
       "  width: 1rem;\n",
       "  text-decoration: none;\n",
       "  /* unfitted */\n",
       "  color: var(--sklearn-color-unfitted-level-1);\n",
       "  border: var(--sklearn-color-unfitted-level-1) 1pt solid;\n",
       "}\n",
       "\n",
       "#sk-container-id-1 a.estimator_doc_link.fitted {\n",
       "  /* fitted */\n",
       "  border: var(--sklearn-color-fitted-level-1) 1pt solid;\n",
       "  color: var(--sklearn-color-fitted-level-1);\n",
       "}\n",
       "\n",
       "/* On hover */\n",
       "#sk-container-id-1 a.estimator_doc_link:hover {\n",
       "  /* unfitted */\n",
       "  background-color: var(--sklearn-color-unfitted-level-3);\n",
       "  color: var(--sklearn-color-background);\n",
       "  text-decoration: none;\n",
       "}\n",
       "\n",
       "#sk-container-id-1 a.estimator_doc_link.fitted:hover {\n",
       "  /* fitted */\n",
       "  background-color: var(--sklearn-color-fitted-level-3);\n",
       "}\n",
       "</style><div id=\"sk-container-id-1\" class=\"sk-top-container\"><div class=\"sk-text-repr-fallback\"><pre>KMeans(init=array([[4.96      , 3.39142857, 1.44285714, 0.24285714],\n",
       "       [5.92285714, 2.75428571, 4.25714286, 1.31714286],\n",
       "       [6.69714286, 2.98857143, 5.65714286, 2.02571429]]),\n",
       "       n_clusters=3, n_init=1)</pre><b>In a Jupyter environment, please rerun this cell to show the HTML representation or trust the notebook. <br />On GitHub, the HTML representation is unable to render, please try loading this page with nbviewer.org.</b></div><div class=\"sk-container\" hidden><div class=\"sk-item\"><div class=\"sk-estimator fitted sk-toggleable\"><input class=\"sk-toggleable__control sk-hidden--visually\" id=\"sk-estimator-id-1\" type=\"checkbox\" checked><label for=\"sk-estimator-id-1\" class=\"sk-toggleable__label fitted sk-toggleable__label-arrow fitted\">&nbsp;&nbsp;KMeans<a class=\"sk-estimator-doc-link fitted\" rel=\"noreferrer\" target=\"_blank\" href=\"https://scikit-learn.org/1.5/modules/generated/sklearn.cluster.KMeans.html\">?<span>Documentation for KMeans</span></a><span class=\"sk-estimator-doc-link fitted\">i<span>Fitted</span></span></label><div class=\"sk-toggleable__content fitted\"><pre>KMeans(init=array([[4.96      , 3.39142857, 1.44285714, 0.24285714],\n",
       "       [5.92285714, 2.75428571, 4.25714286, 1.31714286],\n",
       "       [6.69714286, 2.98857143, 5.65714286, 2.02571429]]),\n",
       "       n_clusters=3, n_init=1)</pre></div> </div></div></div></div>"
      ],
      "text/plain": [
       "KMeans(init=array([[4.96      , 3.39142857, 1.44285714, 0.24285714],\n",
       "       [5.92285714, 2.75428571, 4.25714286, 1.31714286],\n",
       "       [6.69714286, 2.98857143, 5.65714286, 2.02571429]]),\n",
       "       n_clusters=3, n_init=1)"
      ]
     },
     "execution_count": 11,
     "metadata": {},
     "output_type": "execute_result"
    }
   ],
   "source": [
    "kmeans = KMeans(n_clusters=3, init=initial_centroids, n_init=1)\n",
    "kmeans.fit(train.iloc[:, [0, 1, 2, 3]])"
   ]
  },
  {
   "cell_type": "markdown",
   "id": "462c23c6-2264-4972-91f1-0ad33d211c8c",
   "metadata": {},
   "source": [
    "# Predict clusters for test data"
   ]
  },
  {
   "cell_type": "code",
   "execution_count": 12,
   "id": "ece790cf-c258-4553-969a-f7e0d8276320",
   "metadata": {},
   "outputs": [],
   "source": [
    "test_predictions = kmeans.predict(test.iloc[:, [0, 1, 2, 3]])"
   ]
  },
  {
   "cell_type": "markdown",
   "id": "6e72ff3d-30db-4480-aa5a-a707985bcfc0",
   "metadata": {},
   "source": [
    "# Map predicted clusters to class labels\n",
    "# We map the KMeans cluster labels back to the actual class labels\n",
    "# By using the most common true class in each cluster"
   ]
  },
  {
   "cell_type": "code",
   "execution_count": 13,
   "id": "130fe4ec-57ab-4c42-a6a0-5fbb17df8c37",
   "metadata": {},
   "outputs": [],
   "source": [
    "cluster_to_class = {}\n",
    "for i in range(3):\n",
    "    # For each cluster, find the most common class\n",
    "    mask = (kmeans.labels_ == i)\n",
    "    common_class = train.loc[mask, 'class_int'].mode()[0]\n",
    "    cluster_to_class[i] = common_class"
   ]
  },
  {
   "cell_type": "markdown",
   "id": "2360ae70-1402-4637-b4a8-e7933ef044ea",
   "metadata": {},
   "source": [
    "# Convert predicted clusters to predicted class labels"
   ]
  },
  {
   "cell_type": "code",
   "execution_count": 14,
   "id": "a72f5875-d829-46d7-83df-427f4192e251",
   "metadata": {},
   "outputs": [],
   "source": [
    "predicted_classes = np.vectorize(cluster_to_class.get)(test_predictions)"
   ]
  },
  {
   "cell_type": "markdown",
   "id": "e11f2a9c-a252-4d2e-b4e9-5f9262dbcb80",
   "metadata": {},
   "source": [
    "# Compare predicted labels with actual class labels from test set"
   ]
  },
  {
   "cell_type": "code",
   "execution_count": 15,
   "id": "cd5d169a-c6b6-4553-9f8e-47b70c945188",
   "metadata": {},
   "outputs": [
    {
     "name": "stdout",
     "output_type": "stream",
     "text": [
      "Accuracy of KMeans clustering: 84.44%\n"
     ]
    }
   ],
   "source": [
    "actual_classes = test['class_int'].values\n",
    "accuracy = accuracy_score(actual_classes, predicted_classes)\n",
    "print(f\"Accuracy of KMeans clustering: {accuracy * 100:.2f}%\")"
   ]
  },
  {
   "cell_type": "markdown",
   "id": "42d15c52-ae0b-47f0-953a-e7ef123e1974",
   "metadata": {},
   "source": [
    "# Visualization"
   ]
  },
  {
   "cell_type": "code",
   "execution_count": 16,
   "id": "708ec286-8d2c-411c-8ae2-9af11b755c19",
   "metadata": {},
   "outputs": [
    {
     "data": {
      "image/png": "[encoded data removed]",
      "text/plain": [
       "<Figure size 640x480 with 1 Axes>"
      ]
     },
     "metadata": {},
     "output_type": "display_data"
    }
   ],
   "source": [
    "plt.scatter(test['x1'], test['x2'], c=predicted_classes, cmap='viridis', marker='o', label='Predicted clusters')\n",
    "plt.scatter(kmeans.cluster_centers_[:, 0], kmeans.cluster_centers_[:, 1], s=300, c='red', label='Centroids', marker='x')\n",
    "plt.xlabel('x1')\n",
    "plt.ylabel('x2')\n",
    "plt.title('KMeans Clustering on Test Data')\n",
    "plt.legend()\n",
    "plt.show()"
   ]
  },
  {
   "cell_type": "markdown",
   "id": "860ec5fa-45f7-4fbe-aaf4-f4d8dd97c4ea",
   "metadata": {},
   "source": [
    "# Calculate distances between all pairs of cluster centers"
   ]
  },
  {
   "cell_type": "code",
   "execution_count": 17,
   "id": "a0acc568-7180-47d9-9b15-2db32a953ea2",
   "metadata": {},
   "outputs": [],
   "source": [
    "centroid_distances = cdist(kmeans.cluster_centers_, kmeans.cluster_centers_)"
   ]
  },
  {
   "cell_type": "markdown",
   "id": "fe58c3f0-acc1-47d5-bc4c-9d8fd18da711",
   "metadata": {},
   "source": [
    "# Extract the upper triangular part of the distance matrix, ignoring the diagonal (distances between the same clusters)"
   ]
  },
  {
   "cell_type": "code",
   "execution_count": 18,
   "id": "c55b1b1f-5ece-4da5-b713-f7b47bb853d1",
   "metadata": {},
   "outputs": [],
   "source": [
    "pairwise_distances = centroid_distances[np.triu_indices(len(kmeans.cluster_centers_), k=1)]"
   ]
  },
  {
   "cell_type": "markdown",
   "id": "5f3efec4-62eb-42fa-869c-5b04de2abbe2",
   "metadata": {},
   "source": [
    "# Calculate the mean of these pairwise distances"
   ]
  },
  {
   "cell_type": "code",
   "execution_count": 19,
   "id": "fd82d762-a398-4a31-811e-6693f5e6b1ca",
   "metadata": {},
   "outputs": [
    {
     "name": "stdout",
     "output_type": "stream",
     "text": [
      "Threshold for merging clusters based on average pairwise distance: 3.4529\n"
     ]
    }
   ],
   "source": [
    "threshold = pairwise_distances.mean()\n",
    "print(f\"Threshold for merging clusters based on average pairwise distance: {threshold:.4f}\")"
   ]
  },
  {
   "cell_type": "markdown",
   "id": "e7ba83a7-dd40-4750-afc4-9cecb24d2ae5",
   "metadata": {},
   "source": [
    "# Check for merging condition (if distance between clusters is less than the threshold)"
   ]
  },
  {
   "cell_type": "code",
   "execution_count": 20,
   "id": "e49bdcbb-a2bb-4028-99b0-40f3dc303938",
   "metadata": {},
   "outputs": [
    {
     "name": "stdout",
     "output_type": "stream",
     "text": [
      "Clusters 0 and 1 are close and should be considered for merging (distance = 3.3808).\n",
      "Clusters 1 and 2 are close and should be considered for merging (distance = 1.8641).\n"
     ]
    }
   ],
   "source": [
    "for i in range(len(centroid_distances)):\n",
    "    for j in range(i + 1, len(centroid_distances)):\n",
    "        if centroid_distances[i, j] < threshold:\n",
    "            print(f\"Clusters {i} and {j} are close and should be considered for merging (distance = {centroid_distances[i, j]:.4f}).\")"
   ]
  }
 ],
 "metadata": {
  "kernelspec": {
   "display_name": "Python 3 (ipykernel)",
   "language": "python",
   "name": "python3"
  },
  "language_info": {
   "codemirror_mode": {
    "name": "ipython",
    "version": 3
   },
   "file_extension": ".py",
   "mimetype": "text/x-python",
   "name": "python",
   "nbconvert_exporter": "python",
   "pygments_lexer": "ipython3",
   "version": "3.12.0"
  }
 },
 "nbformat": 4,
 "nbformat_minor": 5
}
